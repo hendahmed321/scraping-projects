{
 "cells": [
  {
   "cell_type": "markdown",
   "id": "d917c507",
   "metadata": {},
   "source": [
    "# Database Scrapping"
   ]
  },
  {
   "cell_type": "code",
   "execution_count": 2,
   "id": "233ae36e",
   "metadata": {},
   "outputs": [],
   "source": [
    "import pyodbc\n",
    "import pandas as pd\n",
    "import numpy as np\n",
    "import matplotlib.pyplot as plt \n",
    "import seaborn as sns\n",
    "from sqlalchemy import create_engine"
   ]
  },
  {
   "cell_type": "code",
   "execution_count": 3,
   "metadata": {},
   "outputs": [],
   "source": [
    "connection_string = \"mysql+mysqlconnector://root:@localhost/car_sales\""
   ]
  },
  {
   "cell_type": "code",
   "execution_count": 4,
   "metadata": {},
   "outputs": [],
   "source": [
    "engine = create_engine(connection_string)"
   ]
  },
  {
   "cell_type": "code",
   "execution_count": 5,
   "metadata": {},
   "outputs": [],
   "source": [
    "df = pd.read_sql(\"SELECT * FROM used_car_listings\", engine)"
   ]
  },
  {
   "cell_type": "markdown",
   "id": "d0613b67",
   "metadata": {},
   "source": [
    "# Data Exploration"
   ]
  },
  {
   "cell_type": "code",
   "execution_count": 6,
   "id": "e5697bbc",
   "metadata": {},
   "outputs": [
    {
     "data": {
      "text/html": [
       "<div>\n",
       "<style scoped>\n",
       "    .dataframe tbody tr th:only-of-type {\n",
       "        vertical-align: middle;\n",
       "    }\n",
       "\n",
       "    .dataframe tbody tr th {\n",
       "        vertical-align: top;\n",
       "    }\n",
       "\n",
       "    .dataframe thead th {\n",
       "        text-align: right;\n",
       "    }\n",
       "</style>\n",
       "<table border=\"1\" class=\"dataframe\">\n",
       "  <thead>\n",
       "    <tr style=\"text-align: right;\">\n",
       "      <th></th>\n",
       "      <th>listing_id</th>\n",
       "      <th>vin</th>\n",
       "      <th>make</th>\n",
       "      <th>model</th>\n",
       "      <th>year</th>\n",
       "      <th>trim</th>\n",
       "      <th>body_type</th>\n",
       "      <th>fuel_type</th>\n",
       "      <th>transmission</th>\n",
       "      <th>mileage</th>\n",
       "      <th>price</th>\n",
       "      <th>condition</th>\n",
       "      <th>location</th>\n",
       "      <th>seller_type</th>\n",
       "      <th>features</th>\n",
       "    </tr>\n",
       "  </thead>\n",
       "  <tbody>\n",
       "    <tr>\n",
       "      <th>0</th>\n",
       "      <td>1</td>\n",
       "      <td>9M6LF68V634LY2252</td>\n",
       "      <td>Tesla</td>\n",
       "      <td>Model 3</td>\n",
       "      <td>2019</td>\n",
       "      <td></td>\n",
       "      <td>Coupe</td>\n",
       "      <td>Electric</td>\n",
       "      <td>Manual</td>\n",
       "      <td>46134</td>\n",
       "      <td>19919.0</td>\n",
       "      <td>good</td>\n",
       "      <td>New Lindsey, GA, US</td>\n",
       "      <td>Dealer</td>\n",
       "      <td>Alloy Wheels, Android Auto, Apple CarPlay, Fog...</td>\n",
       "    </tr>\n",
       "    <tr>\n",
       "      <th>1</th>\n",
       "      <td>2</td>\n",
       "      <td>1S0ZCY536BSCY2864</td>\n",
       "      <td>Nissan</td>\n",
       "      <td>Rogue</td>\n",
       "      <td>2024</td>\n",
       "      <td>LT</td>\n",
       "      <td>Sedan</td>\n",
       "      <td>Hybrid</td>\n",
       "      <td>Automatic</td>\n",
       "      <td>16109</td>\n",
       "      <td>19480.0</td>\n",
       "      <td>good</td>\n",
       "      <td>Pughtown, CO, US</td>\n",
       "      <td>Dealer</td>\n",
       "      <td>Alloy Wheels, Android Auto, Lane Keep Assist, ...</td>\n",
       "    </tr>\n",
       "    <tr>\n",
       "      <th>2</th>\n",
       "      <td>3</td>\n",
       "      <td>YFB625BN0RTMZ5590</td>\n",
       "      <td>Hyundai</td>\n",
       "      <td>i20</td>\n",
       "      <td>2018</td>\n",
       "      <td>XLE</td>\n",
       "      <td>Crossover</td>\n",
       "      <td>Petrol</td>\n",
       "      <td>Automatic</td>\n",
       "      <td>173239</td>\n",
       "      <td>4556.0</td>\n",
       "      <td>good</td>\n",
       "      <td>Satna, HR, India</td>\n",
       "      <td>Dealer</td>\n",
       "      <td>Alloy Wheels, Bluetooth, Panoramic Roof, Sunroof</td>\n",
       "    </tr>\n",
       "    <tr>\n",
       "      <th>3</th>\n",
       "      <td>4</td>\n",
       "      <td>CPMZ4RFN5WYL37096</td>\n",
       "      <td>Kia</td>\n",
       "      <td>Sportage</td>\n",
       "      <td>2023</td>\n",
       "      <td>EX</td>\n",
       "      <td>Hatchback</td>\n",
       "      <td>Diesel</td>\n",
       "      <td>CVT</td>\n",
       "      <td>36810</td>\n",
       "      <td>11536.0</td>\n",
       "      <td>fair</td>\n",
       "      <td>山武市, Osaka, Japan</td>\n",
       "      <td>Certified Pre-Owned</td>\n",
       "      <td>Alloy Wheels, Bluetooth, Keyless Entry, Naviga...</td>\n",
       "    </tr>\n",
       "    <tr>\n",
       "      <th>4</th>\n",
       "      <td>5</td>\n",
       "      <td>4PJZG3MV6D9365673</td>\n",
       "      <td>Kia</td>\n",
       "      <td>Seltos</td>\n",
       "      <td>2020</td>\n",
       "      <td>Trend</td>\n",
       "      <td>Pickup</td>\n",
       "      <td>Diesel</td>\n",
       "      <td>Automatic</td>\n",
       "      <td>87749</td>\n",
       "      <td>14098.0</td>\n",
       "      <td>good</td>\n",
       "      <td>長生郡長生村, Osaka, Japan</td>\n",
       "      <td>Certified Pre-Owned</td>\n",
       "      <td>Apple CarPlay, Backup Camera, Bluetooth, Heate...</td>\n",
       "    </tr>\n",
       "  </tbody>\n",
       "</table>\n",
       "</div>"
      ],
      "text/plain": [
       "   listing_id                vin     make     model  year   trim  body_type  \\\n",
       "0           1  9M6LF68V634LY2252    Tesla   Model 3  2019             Coupe   \n",
       "1           2  1S0ZCY536BSCY2864   Nissan     Rogue  2024     LT      Sedan   \n",
       "2           3  YFB625BN0RTMZ5590  Hyundai       i20  2018    XLE  Crossover   \n",
       "3           4  CPMZ4RFN5WYL37096      Kia  Sportage  2023     EX  Hatchback   \n",
       "4           5  4PJZG3MV6D9365673      Kia    Seltos  2020  Trend     Pickup   \n",
       "\n",
       "  fuel_type transmission  mileage    price condition              location  \\\n",
       "0  Electric       Manual    46134  19919.0      good   New Lindsey, GA, US   \n",
       "1    Hybrid    Automatic    16109  19480.0      good      Pughtown, CO, US   \n",
       "2    Petrol    Automatic   173239   4556.0      good      Satna, HR, India   \n",
       "3    Diesel          CVT    36810  11536.0      fair     山武市, Osaka, Japan   \n",
       "4    Diesel    Automatic    87749  14098.0      good  長生郡長生村, Osaka, Japan   \n",
       "\n",
       "           seller_type                                           features  \n",
       "0               Dealer  Alloy Wheels, Android Auto, Apple CarPlay, Fog...  \n",
       "1               Dealer  Alloy Wheels, Android Auto, Lane Keep Assist, ...  \n",
       "2               Dealer   Alloy Wheels, Bluetooth, Panoramic Roof, Sunroof  \n",
       "3  Certified Pre-Owned  Alloy Wheels, Bluetooth, Keyless Entry, Naviga...  \n",
       "4  Certified Pre-Owned  Apple CarPlay, Backup Camera, Bluetooth, Heate...  "
      ]
     },
     "execution_count": 6,
     "metadata": {},
     "output_type": "execute_result"
    }
   ],
   "source": [
    "df.head()"
   ]
  },
  {
   "cell_type": "code",
   "execution_count": 7,
   "id": "dc014600",
   "metadata": {},
   "outputs": [
    {
     "data": {
      "text/html": [
       "<div>\n",
       "<style scoped>\n",
       "    .dataframe tbody tr th:only-of-type {\n",
       "        vertical-align: middle;\n",
       "    }\n",
       "\n",
       "    .dataframe tbody tr th {\n",
       "        vertical-align: top;\n",
       "    }\n",
       "\n",
       "    .dataframe thead th {\n",
       "        text-align: right;\n",
       "    }\n",
       "</style>\n",
       "<table border=\"1\" class=\"dataframe\">\n",
       "  <thead>\n",
       "    <tr style=\"text-align: right;\">\n",
       "      <th></th>\n",
       "      <th>listing_id</th>\n",
       "      <th>vin</th>\n",
       "      <th>make</th>\n",
       "      <th>model</th>\n",
       "      <th>year</th>\n",
       "      <th>trim</th>\n",
       "      <th>body_type</th>\n",
       "      <th>fuel_type</th>\n",
       "      <th>transmission</th>\n",
       "      <th>mileage</th>\n",
       "      <th>price</th>\n",
       "      <th>condition</th>\n",
       "      <th>location</th>\n",
       "      <th>seller_type</th>\n",
       "      <th>features</th>\n",
       "    </tr>\n",
       "  </thead>\n",
       "  <tbody>\n",
       "    <tr>\n",
       "      <th>2063</th>\n",
       "      <td>2064</td>\n",
       "      <td>06B83BVF8F2W81547</td>\n",
       "      <td>Skoda</td>\n",
       "      <td>Kushaq</td>\n",
       "      <td>2023</td>\n",
       "      <td>Sport</td>\n",
       "      <td>Pickup</td>\n",
       "      <td>Petrol</td>\n",
       "      <td>Automatic</td>\n",
       "      <td>24566</td>\n",
       "      <td>34696.0</td>\n",
       "      <td>like new</td>\n",
       "      <td>Shahjahanpur, KA, India</td>\n",
       "      <td>Certified Pre-Owned</td>\n",
       "      <td>Blind Spot Monitor, Keyless Entry, Panoramic R...</td>\n",
       "    </tr>\n",
       "    <tr>\n",
       "      <th>2064</th>\n",
       "      <td>2065</td>\n",
       "      <td>4P7083L79MBVK5696</td>\n",
       "      <td>Mahindra</td>\n",
       "      <td>Scorpio</td>\n",
       "      <td>2016</td>\n",
       "      <td>XSE</td>\n",
       "      <td>SUV</td>\n",
       "      <td>Diesel</td>\n",
       "      <td>Automatic</td>\n",
       "      <td>122459</td>\n",
       "      <td>2642.0</td>\n",
       "      <td>excellent</td>\n",
       "      <td>Marques, PR, Brazil</td>\n",
       "      <td>Dealer</td>\n",
       "      <td>Adaptive Cruise Control, Backup Camera, LED He...</td>\n",
       "    </tr>\n",
       "    <tr>\n",
       "      <th>2065</th>\n",
       "      <td>2066</td>\n",
       "      <td>5RERFW1M7B00A4061</td>\n",
       "      <td>Audi</td>\n",
       "      <td>A6</td>\n",
       "      <td>2018</td>\n",
       "      <td>EX</td>\n",
       "      <td>Hatchback</td>\n",
       "      <td>Diesel</td>\n",
       "      <td>DCT</td>\n",
       "      <td>120452</td>\n",
       "      <td>7093.0</td>\n",
       "      <td>good</td>\n",
       "      <td>Dhanbad, KL, India</td>\n",
       "      <td>Private Party</td>\n",
       "      <td>Adaptive Cruise Control, Android Auto, Blind S...</td>\n",
       "    </tr>\n",
       "    <tr>\n",
       "      <th>2066</th>\n",
       "      <td>2067</td>\n",
       "      <td>DJB6DBAS5UNNX0757</td>\n",
       "      <td>Skoda</td>\n",
       "      <td>Kushaq</td>\n",
       "      <td>2021</td>\n",
       "      <td>LX</td>\n",
       "      <td>MPV</td>\n",
       "      <td>Petrol</td>\n",
       "      <td>Manual</td>\n",
       "      <td>57043</td>\n",
       "      <td>11296.0</td>\n",
       "      <td>excellent</td>\n",
       "      <td>Caitlinstad, NL, Canada</td>\n",
       "      <td>Certified Pre-Owned</td>\n",
       "      <td>Backup Camera, Panoramic Roof, Parking Sensors...</td>\n",
       "    </tr>\n",
       "    <tr>\n",
       "      <th>2067</th>\n",
       "      <td>2068</td>\n",
       "      <td>8BUANECR64R9L0827</td>\n",
       "      <td>Chevrolet</td>\n",
       "      <td>Malibu</td>\n",
       "      <td>2024</td>\n",
       "      <td>Platinum</td>\n",
       "      <td>Sedan</td>\n",
       "      <td>Diesel</td>\n",
       "      <td>Automatic</td>\n",
       "      <td>20218</td>\n",
       "      <td>23558.0</td>\n",
       "      <td>excellent</td>\n",
       "      <td>Stadtroda, HH, Germany</td>\n",
       "      <td>Certified Pre-Owned</td>\n",
       "      <td>Adaptive Cruise Control, Android Auto, Apple C...</td>\n",
       "    </tr>\n",
       "  </tbody>\n",
       "</table>\n",
       "</div>"
      ],
      "text/plain": [
       "      listing_id                vin       make    model  year      trim  \\\n",
       "2063        2064  06B83BVF8F2W81547      Skoda   Kushaq  2023     Sport   \n",
       "2064        2065  4P7083L79MBVK5696   Mahindra  Scorpio  2016       XSE   \n",
       "2065        2066  5RERFW1M7B00A4061       Audi       A6  2018        EX   \n",
       "2066        2067  DJB6DBAS5UNNX0757      Skoda   Kushaq  2021        LX   \n",
       "2067        2068  8BUANECR64R9L0827  Chevrolet   Malibu  2024  Platinum   \n",
       "\n",
       "      body_type fuel_type transmission  mileage    price  condition  \\\n",
       "2063     Pickup    Petrol    Automatic    24566  34696.0   like new   \n",
       "2064        SUV    Diesel    Automatic   122459   2642.0  excellent   \n",
       "2065  Hatchback    Diesel          DCT   120452   7093.0       good   \n",
       "2066        MPV    Petrol       Manual    57043  11296.0  excellent   \n",
       "2067      Sedan    Diesel    Automatic    20218  23558.0  excellent   \n",
       "\n",
       "                     location          seller_type  \\\n",
       "2063  Shahjahanpur, KA, India  Certified Pre-Owned   \n",
       "2064      Marques, PR, Brazil               Dealer   \n",
       "2065       Dhanbad, KL, India        Private Party   \n",
       "2066  Caitlinstad, NL, Canada  Certified Pre-Owned   \n",
       "2067   Stadtroda, HH, Germany  Certified Pre-Owned   \n",
       "\n",
       "                                               features  \n",
       "2063  Blind Spot Monitor, Keyless Entry, Panoramic R...  \n",
       "2064  Adaptive Cruise Control, Backup Camera, LED He...  \n",
       "2065  Adaptive Cruise Control, Android Auto, Blind S...  \n",
       "2066  Backup Camera, Panoramic Roof, Parking Sensors...  \n",
       "2067  Adaptive Cruise Control, Android Auto, Apple C...  "
      ]
     },
     "execution_count": 7,
     "metadata": {},
     "output_type": "execute_result"
    }
   ],
   "source": [
    "df.tail()"
   ]
  },
  {
   "cell_type": "code",
   "execution_count": 8,
   "id": "48f791ae",
   "metadata": {},
   "outputs": [
    {
     "name": "stdout",
     "output_type": "stream",
     "text": [
      "<class 'pandas.core.frame.DataFrame'>\n",
      "RangeIndex: 2068 entries, 0 to 2067\n",
      "Data columns (total 15 columns):\n",
      " #   Column        Non-Null Count  Dtype  \n",
      "---  ------        --------------  -----  \n",
      " 0   listing_id    2068 non-null   int64  \n",
      " 1   vin           2068 non-null   object \n",
      " 2   make          2068 non-null   object \n",
      " 3   model         2068 non-null   object \n",
      " 4   year          2068 non-null   int64  \n",
      " 5   trim          2068 non-null   object \n",
      " 6   body_type     2068 non-null   object \n",
      " 7   fuel_type     2068 non-null   object \n",
      " 8   transmission  2068 non-null   object \n",
      " 9   mileage       2068 non-null   int64  \n",
      " 10  price         2068 non-null   float64\n",
      " 11  condition     2068 non-null   object \n",
      " 12  location      2068 non-null   object \n",
      " 13  seller_type   2068 non-null   object \n",
      " 14  features      2068 non-null   object \n",
      "dtypes: float64(1), int64(3), object(11)\n",
      "memory usage: 242.5+ KB\n"
     ]
    }
   ],
   "source": [
    "df.info()"
   ]
  },
  {
   "cell_type": "code",
   "execution_count": 9,
   "metadata": {},
   "outputs": [
    {
     "data": {
      "text/html": [
       "<div>\n",
       "<style scoped>\n",
       "    .dataframe tbody tr th:only-of-type {\n",
       "        vertical-align: middle;\n",
       "    }\n",
       "\n",
       "    .dataframe tbody tr th {\n",
       "        vertical-align: top;\n",
       "    }\n",
       "\n",
       "    .dataframe thead th {\n",
       "        text-align: right;\n",
       "    }\n",
       "</style>\n",
       "<table border=\"1\" class=\"dataframe\">\n",
       "  <thead>\n",
       "    <tr style=\"text-align: right;\">\n",
       "      <th></th>\n",
       "      <th>listing_id</th>\n",
       "      <th>year</th>\n",
       "      <th>mileage</th>\n",
       "      <th>price</th>\n",
       "    </tr>\n",
       "  </thead>\n",
       "  <tbody>\n",
       "    <tr>\n",
       "      <th>count</th>\n",
       "      <td>2068.000000</td>\n",
       "      <td>2068.000000</td>\n",
       "      <td>2068.000000</td>\n",
       "      <td>2068.000000</td>\n",
       "    </tr>\n",
       "    <tr>\n",
       "      <th>mean</th>\n",
       "      <td>1034.500000</td>\n",
       "      <td>2016.975822</td>\n",
       "      <td>115626.364603</td>\n",
       "      <td>9182.621857</td>\n",
       "    </tr>\n",
       "    <tr>\n",
       "      <th>std</th>\n",
       "      <td>597.124498</td>\n",
       "      <td>4.610981</td>\n",
       "      <td>80971.112603</td>\n",
       "      <td>9964.093618</td>\n",
       "    </tr>\n",
       "    <tr>\n",
       "      <th>min</th>\n",
       "      <td>1.000000</td>\n",
       "      <td>2005.000000</td>\n",
       "      <td>0.000000</td>\n",
       "      <td>1140.000000</td>\n",
       "    </tr>\n",
       "    <tr>\n",
       "      <th>25%</th>\n",
       "      <td>517.750000</td>\n",
       "      <td>2014.000000</td>\n",
       "      <td>57683.250000</td>\n",
       "      <td>2323.750000</td>\n",
       "    </tr>\n",
       "    <tr>\n",
       "      <th>50%</th>\n",
       "      <td>1034.500000</td>\n",
       "      <td>2017.000000</td>\n",
       "      <td>99212.000000</td>\n",
       "      <td>5448.500000</td>\n",
       "    </tr>\n",
       "    <tr>\n",
       "      <th>75%</th>\n",
       "      <td>1551.250000</td>\n",
       "      <td>2020.000000</td>\n",
       "      <td>159291.500000</td>\n",
       "      <td>11946.750000</td>\n",
       "    </tr>\n",
       "    <tr>\n",
       "      <th>max</th>\n",
       "      <td>2068.000000</td>\n",
       "      <td>2025.000000</td>\n",
       "      <td>418428.000000</td>\n",
       "      <td>72641.000000</td>\n",
       "    </tr>\n",
       "  </tbody>\n",
       "</table>\n",
       "</div>"
      ],
      "text/plain": [
       "        listing_id         year        mileage         price\n",
       "count  2068.000000  2068.000000    2068.000000   2068.000000\n",
       "mean   1034.500000  2016.975822  115626.364603   9182.621857\n",
       "std     597.124498     4.610981   80971.112603   9964.093618\n",
       "min       1.000000  2005.000000       0.000000   1140.000000\n",
       "25%     517.750000  2014.000000   57683.250000   2323.750000\n",
       "50%    1034.500000  2017.000000   99212.000000   5448.500000\n",
       "75%    1551.250000  2020.000000  159291.500000  11946.750000\n",
       "max    2068.000000  2025.000000  418428.000000  72641.000000"
      ]
     },
     "execution_count": 9,
     "metadata": {},
     "output_type": "execute_result"
    }
   ],
   "source": [
    "df.describe()"
   ]
  },
  {
   "cell_type": "code",
   "execution_count": 10,
   "metadata": {},
   "outputs": [
    {
     "data": {
      "text/plain": [
       "(2068, 15)"
      ]
     },
     "execution_count": 10,
     "metadata": {},
     "output_type": "execute_result"
    }
   ],
   "source": [
    "df.shape"
   ]
  },
  {
   "cell_type": "markdown",
   "id": "600d1d6c",
   "metadata": {},
   "source": [
    "# Data Preprocessing"
   ]
  },
  {
   "cell_type": "markdown",
   "id": "f1f4d6d9",
   "metadata": {},
   "source": [
    "## Duplication Check"
   ]
  },
  {
   "cell_type": "code",
   "execution_count": 11,
   "id": "f443b011",
   "metadata": {},
   "outputs": [
    {
     "data": {
      "text/plain": [
       "np.int64(0)"
      ]
     },
     "execution_count": 11,
     "metadata": {},
     "output_type": "execute_result"
    }
   ],
   "source": [
    "df.duplicated().sum()"
   ]
  },
  {
   "cell_type": "markdown",
   "id": "0ceb67a2",
   "metadata": {},
   "source": [
    "## Filling Nulls"
   ]
  },
  {
   "cell_type": "code",
   "execution_count": 12,
   "id": "12167af0",
   "metadata": {},
   "outputs": [
    {
     "data": {
      "text/plain": [
       "listing_id      0\n",
       "vin             0\n",
       "make            0\n",
       "model           0\n",
       "year            0\n",
       "trim            0\n",
       "body_type       0\n",
       "fuel_type       0\n",
       "transmission    0\n",
       "mileage         0\n",
       "price           0\n",
       "condition       0\n",
       "location        0\n",
       "seller_type     0\n",
       "features        0\n",
       "dtype: int64"
      ]
     },
     "execution_count": 12,
     "metadata": {},
     "output_type": "execute_result"
    }
   ],
   "source": [
    "df.isnull().sum()\n",
    "# ok no null found"
   ]
  },
  {
   "cell_type": "code",
   "execution_count": 13,
   "id": "3a38ac18",
   "metadata": {},
   "outputs": [
    {
     "data": {
      "text/plain": [
       "listing_id        int64\n",
       "vin              object\n",
       "make             object\n",
       "model            object\n",
       "year              int64\n",
       "trim             object\n",
       "body_type        object\n",
       "fuel_type        object\n",
       "transmission     object\n",
       "mileage           int64\n",
       "price           float64\n",
       "condition        object\n",
       "location         object\n",
       "seller_type      object\n",
       "features         object\n",
       "dtype: object"
      ]
     },
     "execution_count": 13,
     "metadata": {},
     "output_type": "execute_result"
    }
   ],
   "source": [
    "df.dtypes"
   ]
  },
  {
   "cell_type": "markdown",
   "id": "91101817",
   "metadata": {},
   "source": [
    "### listing_id & vin"
   ]
  },
  {
   "cell_type": "code",
   "execution_count": 14,
   "id": "acd9494b",
   "metadata": {},
   "outputs": [
    {
     "data": {
      "text/plain": [
       "2068"
      ]
     },
     "execution_count": 14,
     "metadata": {},
     "output_type": "execute_result"
    }
   ],
   "source": [
    "len(df['listing_id'].unique())"
   ]
  },
  {
   "cell_type": "code",
   "execution_count": 15,
   "id": "8042af8b",
   "metadata": {},
   "outputs": [
    {
     "data": {
      "text/plain": [
       "2068"
      ]
     },
     "execution_count": 15,
     "metadata": {},
     "output_type": "execute_result"
    }
   ],
   "source": [
    "len(df['vin'].unique())"
   ]
  },
  {
   "cell_type": "code",
   "execution_count": 16,
   "metadata": {},
   "outputs": [],
   "source": [
    "# There is 2 primiary keys so lets drop one\n",
    "df= df.drop('vin', axis=1)"
   ]
  },
  {
   "cell_type": "markdown",
   "id": "6f8c2448",
   "metadata": {},
   "source": [
    "### make             "
   ]
  },
  {
   "cell_type": "code",
   "execution_count": 17,
   "id": "78ad3d96",
   "metadata": {},
   "outputs": [
    {
     "data": {
      "text/plain": [
       "array(['Tesla', 'Nissan', 'Hyundai', 'Kia', 'Mercedes-Benz', 'Tata',\n",
       "       'Chevrolet', 'Toyota', 'Skoda', 'Audi', 'Honda', 'Ford', 'Maruti',\n",
       "       'BMW', 'Volkswagen', 'Mahindra'], dtype=object)"
      ]
     },
     "execution_count": 17,
     "metadata": {},
     "output_type": "execute_result"
    }
   ],
   "source": [
    "df['make'].unique()"
   ]
  },
  {
   "cell_type": "code",
   "execution_count": 18,
   "id": "cabf8559",
   "metadata": {},
   "outputs": [
    {
     "data": {
      "text/plain": [
       "make\n",
       "Ford             146\n",
       "Skoda            145\n",
       "Audi             142\n",
       "Mahindra         136\n",
       "Chevrolet        135\n",
       "Kia              133\n",
       "Nissan           128\n",
       "Honda            128\n",
       "Mercedes-Benz    127\n",
       "Tata             126\n",
       "BMW              125\n",
       "Hyundai          124\n",
       "Volkswagen       123\n",
       "Tesla            117\n",
       "Maruti           117\n",
       "Toyota           116\n",
       "Name: count, dtype: int64"
      ]
     },
     "execution_count": 18,
     "metadata": {},
     "output_type": "execute_result"
    }
   ],
   "source": [
    "df['make'].value_counts()\n",
    "# Ok no one value has an extreme num"
   ]
  },
  {
   "cell_type": "markdown",
   "id": "936b2d32",
   "metadata": {},
   "source": [
    "### model "
   ]
  },
  {
   "cell_type": "code",
   "execution_count": 19,
   "metadata": {},
   "outputs": [
    {
     "data": {
      "text/plain": [
       "array(['Model 3', 'Rogue', 'i20', 'Sportage', 'Seltos', 'GLA', 'Sorento',\n",
       "       'Altroz', 'Silverado', 'Camry', 'Octavia', 'Malibu', 'Nexon', 'A6',\n",
       "       'Accord', 'F-150', 'Dzire', 'Sonet', 'Maverick', 'A4', '3 Series',\n",
       "       'Q3', 'Highlander', '5 Series', 'Equinox', 'Taigun', 'Model Y',\n",
       "       'Magnite', 'Bolero', 'Creta', 'Trax', 'Kushaq', 'Tacoma', 'XUV700',\n",
       "       'Explorer', 'X5', 'Slavia', 'Escape', 'CR-V', 'Q5', 'Punch',\n",
       "       'E-Class', 'Ertiga', 'Jetta', 'Scorpio', 'Tucson', 'City',\n",
       "       'Wagon R', 'Tiguan', 'Baleno', 'Swift', 'Civic', 'RAV4', 'Harrier',\n",
       "       'GLC', 'X3', 'Sentra', 'Sonata', 'Amaze', 'Altima', 'Innova',\n",
       "       'Corolla', 'C-Class', 'Fortuner', 'Elantra'], dtype=object)"
      ]
     },
     "execution_count": 19,
     "metadata": {},
     "output_type": "execute_result"
    }
   ],
   "source": [
    "df['model'].unique()"
   ]
  },
  {
   "cell_type": "markdown",
   "id": "c4cac62d",
   "metadata": {},
   "source": [
    "### year             "
   ]
  },
  {
   "cell_type": "code",
   "execution_count": 20,
   "id": "4278e099",
   "metadata": {},
   "outputs": [
    {
     "data": {
      "text/plain": [
       "array([2019, 2024, 2018, 2023, 2020, 2013, 2017, 2015, 2014, 2011, 2025,\n",
       "       2016, 2021, 2022, 2012, 2006, 2007, 2010, 2009, 2005, 2008])"
      ]
     },
     "execution_count": 20,
     "metadata": {},
     "output_type": "execute_result"
    }
   ],
   "source": [
    "df['year'].unique()"
   ]
  },
  {
   "cell_type": "code",
   "execution_count": 21,
   "id": "6c02ec92",
   "metadata": {},
   "outputs": [
    {
     "data": {
      "text/plain": [
       "dtype('int64')"
      ]
     },
     "execution_count": 21,
     "metadata": {},
     "output_type": "execute_result"
    }
   ],
   "source": [
    "df['year'].dtype"
   ]
  },
  {
   "cell_type": "markdown",
   "id": "2aee44fa",
   "metadata": {},
   "source": [
    "### trim"
   ]
  },
  {
   "cell_type": "code",
   "execution_count": 22,
   "id": "d8c774b6",
   "metadata": {},
   "outputs": [
    {
     "data": {
      "text/plain": [
       "array(['', 'LT', 'XLE', 'EX', 'Trend', 'Platinum', 'Long Range', 'LX',\n",
       "       'Premium', 'LTZ', 'Touring', 'XSE', 'Limited', 'Sport',\n",
       "       'Performance', 'Base', 'L', 'Titanium', 'SE', 'LE'], dtype=object)"
      ]
     },
     "execution_count": 22,
     "metadata": {},
     "output_type": "execute_result"
    }
   ],
   "source": [
    "df['trim'].unique()\n",
    "# has hidden null values"
   ]
  },
  {
   "cell_type": "code",
   "execution_count": 23,
   "id": "4f6e6a24",
   "metadata": {},
   "outputs": [],
   "source": [
    "df['trim']= df['trim'].replace('', np.nan)"
   ]
  },
  {
   "cell_type": "code",
   "execution_count": 24,
   "id": "c3d0fb4c",
   "metadata": {},
   "outputs": [
    {
     "data": {
      "text/plain": [
       "np.float64(11.798839458413926)"
      ]
     },
     "execution_count": 24,
     "metadata": {},
     "output_type": "execute_result"
    }
   ],
   "source": [
    "df['trim'].isnull().sum() / len(df) * 100\n",
    "# ok low percentage will be filled"
   ]
  },
  {
   "cell_type": "code",
   "execution_count": 25,
   "id": "d2fe5cf7",
   "metadata": {},
   "outputs": [
    {
     "data": {
      "text/plain": [
       "trim\n",
       "Touring        113\n",
       "LX             109\n",
       "Titanium       104\n",
       "Sport          102\n",
       "Long Range     102\n",
       "Base           101\n",
       "LTZ             99\n",
       "Trend           98\n",
       "Platinum        96\n",
       "EX              96\n",
       "LE              96\n",
       "Limited         94\n",
       "SE              93\n",
       "Performance     91\n",
       "Premium         88\n",
       "L               88\n",
       "LT              87\n",
       "XSE             84\n",
       "XLE             83\n",
       "Name: count, dtype: int64"
      ]
     },
     "execution_count": 25,
     "metadata": {},
     "output_type": "execute_result"
    }
   ],
   "source": [
    "df['trim'].value_counts()"
   ]
  },
  {
   "cell_type": "code",
   "execution_count": 26,
   "id": "457f4fc0",
   "metadata": {},
   "outputs": [],
   "source": [
    "df['trim']= df['trim'].fillna(df['trim'].mode()[0])"
   ]
  },
  {
   "cell_type": "code",
   "execution_count": 27,
   "id": "292be7d9",
   "metadata": {},
   "outputs": [
    {
     "data": {
      "text/plain": [
       "np.int64(0)"
      ]
     },
     "execution_count": 27,
     "metadata": {},
     "output_type": "execute_result"
    }
   ],
   "source": [
    "df['trim'].isnull().sum()"
   ]
  },
  {
   "cell_type": "markdown",
   "id": "10334115",
   "metadata": {},
   "source": [
    "### body_type             "
   ]
  },
  {
   "cell_type": "code",
   "execution_count": 28,
   "id": "0bf6ebf2",
   "metadata": {},
   "outputs": [
    {
     "data": {
      "text/plain": [
       "array(['Coupe', 'Sedan', 'Crossover', 'Hatchback', 'Pickup',\n",
       "       'Convertible', 'Van', 'MPV', 'SUV'], dtype=object)"
      ]
     },
     "execution_count": 28,
     "metadata": {},
     "output_type": "execute_result"
    }
   ],
   "source": [
    "df['body_type'].unique()"
   ]
  },
  {
   "cell_type": "markdown",
   "id": "e2c41e2a",
   "metadata": {},
   "source": [
    "### fuel_type             "
   ]
  },
  {
   "cell_type": "code",
   "execution_count": 29,
   "id": "0b09d24b",
   "metadata": {},
   "outputs": [
    {
     "data": {
      "text/plain": [
       "array(['Electric', 'Hybrid', 'Petrol', 'Diesel', 'Plug-in Hybrid', 'CNG'],\n",
       "      dtype=object)"
      ]
     },
     "execution_count": 29,
     "metadata": {},
     "output_type": "execute_result"
    }
   ],
   "source": [
    "df['fuel_type'].unique()"
   ]
  },
  {
   "cell_type": "markdown",
   "id": "dc3aafa2",
   "metadata": {},
   "source": [
    "### transmission             "
   ]
  },
  {
   "cell_type": "code",
   "execution_count": 30,
   "id": "625c34e7",
   "metadata": {},
   "outputs": [
    {
     "data": {
      "text/plain": [
       "array(['Manual', 'Automatic', 'CVT', 'AMT', 'DCT'], dtype=object)"
      ]
     },
     "execution_count": 30,
     "metadata": {},
     "output_type": "execute_result"
    }
   ],
   "source": [
    "df['transmission'].unique()"
   ]
  },
  {
   "cell_type": "markdown",
   "id": "53154708",
   "metadata": {},
   "source": [
    "### mileage"
   ]
  },
  {
   "cell_type": "code",
   "execution_count": 31,
   "id": "3d09fbcb",
   "metadata": {},
   "outputs": [
    {
     "data": {
      "text/plain": [
       "array([ 46134,  16109, 173239, ..., 120452,  57043,  20218], shape=(1964,))"
      ]
     },
     "execution_count": 31,
     "metadata": {},
     "output_type": "execute_result"
    }
   ],
   "source": [
    "df['mileage'].unique()"
   ]
  },
  {
   "cell_type": "code",
   "execution_count": 32,
   "metadata": {},
   "outputs": [
    {
     "data": {
      "text/plain": [
       "dtype('int64')"
      ]
     },
     "execution_count": 32,
     "metadata": {},
     "output_type": "execute_result"
    }
   ],
   "source": [
    "df['mileage'].dtype"
   ]
  },
  {
   "cell_type": "markdown",
   "id": "386309bc",
   "metadata": {},
   "source": [
    "### price"
   ]
  },
  {
   "cell_type": "code",
   "execution_count": 33,
   "id": "193618a6",
   "metadata": {},
   "outputs": [
    {
     "data": {
      "text/plain": [
       "array([19919., 19480.,  4556., ...,  7093., 11296., 23558.], shape=(1883,))"
      ]
     },
     "execution_count": 33,
     "metadata": {},
     "output_type": "execute_result"
    }
   ],
   "source": [
    "df['price'].unique()"
   ]
  },
  {
   "cell_type": "code",
   "execution_count": 34,
   "metadata": {},
   "outputs": [
    {
     "data": {
      "text/plain": [
       "dtype('float64')"
      ]
     },
     "execution_count": 34,
     "metadata": {},
     "output_type": "execute_result"
    }
   ],
   "source": [
    "df['price'].dtype"
   ]
  },
  {
   "cell_type": "markdown",
   "id": "b12888d5",
   "metadata": {},
   "source": [
    "### condition"
   ]
  },
  {
   "cell_type": "code",
   "execution_count": 35,
   "id": "a4938439",
   "metadata": {},
   "outputs": [
    {
     "data": {
      "text/plain": [
       "array(['good', 'fair', 'excellent', 'new', '', 'like new', 'salvage'],\n",
       "      dtype=object)"
      ]
     },
     "execution_count": 35,
     "metadata": {},
     "output_type": "execute_result"
    }
   ],
   "source": [
    "df['condition'].unique()"
   ]
  },
  {
   "cell_type": "code",
   "execution_count": 36,
   "metadata": {},
   "outputs": [],
   "source": [
    "df['condition']= df['condition'].replace('', np.nan)"
   ]
  },
  {
   "cell_type": "code",
   "execution_count": 37,
   "metadata": {},
   "outputs": [
    {
     "data": {
      "text/plain": [
       "np.int64(46)"
      ]
     },
     "execution_count": 37,
     "metadata": {},
     "output_type": "execute_result"
    }
   ],
   "source": [
    "df['condition'].isnull().sum()"
   ]
  },
  {
   "cell_type": "code",
   "execution_count": 38,
   "metadata": {},
   "outputs": [],
   "source": [
    "df['condition']= df['condition'].fillna(df['condition'].mode()[0])"
   ]
  },
  {
   "cell_type": "markdown",
   "id": "62fe0bc5",
   "metadata": {},
   "source": [
    "### location"
   ]
  },
  {
   "cell_type": "code",
   "execution_count": 39,
   "id": "e46d6c6b",
   "metadata": {},
   "outputs": [
    {
     "data": {
      "text/plain": [
       "array(['New Lindsey, GA, US', 'Pughtown, CO, US', 'Satna, HR, India', ...,\n",
       "       'Dhanbad, KL, India', 'Caitlinstad, NL, Canada',\n",
       "       'Stadtroda, HH, Germany'], shape=(1893,), dtype=object)"
      ]
     },
     "execution_count": 39,
     "metadata": {},
     "output_type": "execute_result"
    }
   ],
   "source": [
    "df['location'].unique()"
   ]
  },
  {
   "cell_type": "code",
   "execution_count": 40,
   "id": "1fdf48cb",
   "metadata": {},
   "outputs": [
    {
     "data": {
      "text/plain": [
       "0             New Lindsey, GA, US\n",
       "1                Pughtown, CO, US\n",
       "2                Satna, HR, India\n",
       "3               山武市, Osaka, Japan\n",
       "4            長生郡長生村, Osaka, Japan\n",
       "5     Christopherfort, NB, Canada\n",
       "6     West Susanburgh, NB, Canada\n",
       "7     Perrot-sur-Mer, NAQ, France\n",
       "8     Lake Taylor, TAS, Australia\n",
       "9    Mckenzieside, TAS, Australia\n",
       "Name: location, dtype: object"
      ]
     },
     "execution_count": 40,
     "metadata": {},
     "output_type": "execute_result"
    }
   ],
   "source": [
    "df['location'].head(10)"
   ]
  },
  {
   "cell_type": "code",
   "execution_count": 41,
   "id": "2e5a11c1",
   "metadata": {},
   "outputs": [
    {
     "data": {
      "text/plain": [
       "2058     Gutierrezburgh, VIC, Australia\n",
       "2059               青ヶ島村, Fukuoka, Japan\n",
       "2060                  羽村市, Kyoto, Japan\n",
       "2061    Bhalswa Jahangir Pur, UP, India\n",
       "2062                  杉並区, Tokyo, Japan\n",
       "2063            Shahjahanpur, KA, India\n",
       "2064                Marques, PR, Brazil\n",
       "2065                 Dhanbad, KL, India\n",
       "2066            Caitlinstad, NL, Canada\n",
       "2067             Stadtroda, HH, Germany\n",
       "Name: location, dtype: object"
      ]
     },
     "execution_count": 41,
     "metadata": {},
     "output_type": "execute_result"
    }
   ],
   "source": [
    "df['location'].tail(10)"
   ]
  },
  {
   "cell_type": "code",
   "execution_count": 42,
   "id": "fbfe906e",
   "metadata": {},
   "outputs": [],
   "source": [
    "# ok lets get the country out of that\n",
    "df['country'] = df['location'].str.split(',').str[-1].str.strip()"
   ]
  },
  {
   "cell_type": "code",
   "execution_count": 43,
   "metadata": {},
   "outputs": [
    {
     "data": {
      "text/plain": [
       "country\n",
       "Australia       228\n",
       "France          215\n",
       "Japan           213\n",
       "India           212\n",
       "Germany         206\n",
       "South Africa    205\n",
       "Brazil          203\n",
       "UK              203\n",
       "Canada          192\n",
       "US              191\n",
       "Name: count, dtype: int64"
      ]
     },
     "execution_count": 43,
     "metadata": {},
     "output_type": "execute_result"
    }
   ],
   "source": [
    "df['country'].value_counts()"
   ]
  },
  {
   "cell_type": "code",
   "execution_count": 44,
   "metadata": {},
   "outputs": [],
   "source": [
    "df= df.drop('location', axis= 1)"
   ]
  },
  {
   "cell_type": "markdown",
   "id": "d9e84768",
   "metadata": {},
   "source": [
    "### seller_type"
   ]
  },
  {
   "cell_type": "code",
   "execution_count": 45,
   "metadata": {},
   "outputs": [
    {
     "data": {
      "text/plain": [
       "array(['Dealer', 'Certified Pre-Owned', 'Private Party'], dtype=object)"
      ]
     },
     "execution_count": 45,
     "metadata": {},
     "output_type": "execute_result"
    }
   ],
   "source": [
    "df['seller_type'].unique()"
   ]
  },
  {
   "cell_type": "code",
   "execution_count": 46,
   "metadata": {},
   "outputs": [
    {
     "data": {
      "text/plain": [
       "seller_type\n",
       "Dealer                 1151\n",
       "Private Party           706\n",
       "Certified Pre-Owned     211\n",
       "Name: count, dtype: int64"
      ]
     },
     "execution_count": 46,
     "metadata": {},
     "output_type": "execute_result"
    }
   ],
   "source": [
    "df['seller_type'].value_counts()"
   ]
  },
  {
   "cell_type": "markdown",
   "id": "a057b698",
   "metadata": {},
   "source": [
    "### features"
   ]
  },
  {
   "cell_type": "code",
   "execution_count": 47,
   "id": "0f88b2c8",
   "metadata": {},
   "outputs": [
    {
     "data": {
      "text/plain": [
       "array(['Alloy Wheels, Android Auto, Apple CarPlay, Fog Lights, LED Headlights, Parking Sensors, Ventilated Seats',\n",
       "       'Alloy Wheels, Android Auto, Lane Keep Assist, Navigation, Panoramic Roof, Parking Sensors, Push Button Start, Wireless Charging',\n",
       "       'Alloy Wheels, Bluetooth, Panoramic Roof, Sunroof', ...,\n",
       "       'Adaptive Cruise Control, Android Auto, Blind Spot Monitor, Navigation, Wireless Charging',\n",
       "       'Backup Camera, Panoramic Roof, Parking Sensors, Push Button Start',\n",
       "       'Adaptive Cruise Control, Android Auto, Apple CarPlay, Bluetooth, Fog Lights, Heated Seats, LED Headlights'],\n",
       "      shape=(1904,), dtype=object)"
      ]
     },
     "execution_count": 47,
     "metadata": {},
     "output_type": "execute_result"
    }
   ],
   "source": [
    "df['features'].unique()"
   ]
  },
  {
   "cell_type": "code",
   "execution_count": 48,
   "metadata": {},
   "outputs": [],
   "source": [
    "from collections import Counter"
   ]
  },
  {
   "cell_type": "code",
   "execution_count": 49,
   "id": "043fe2e0",
   "metadata": {},
   "outputs": [],
   "source": [
    "all_features = []\n",
    "for feature_string in df['features'].dropna():\n",
    "    if isinstance(feature_string, str):\n",
    "        features = [f.strip() for f in feature_string.split(',')]\n",
    "        features = [f for f in features if f != '']\n",
    "        all_features.extend(features)\n",
    "\n",
    "# Count feature frequency\n",
    "feature_counts = Counter(all_features)"
   ]
  },
  {
   "cell_type": "code",
   "execution_count": 50,
   "id": "cd472f83",
   "metadata": {},
   "outputs": [
    {
     "data": {
      "text/plain": [
       "20"
      ]
     },
     "execution_count": 50,
     "metadata": {},
     "output_type": "execute_result"
    }
   ],
   "source": [
    "len(feature_counts)"
   ]
  },
  {
   "cell_type": "code",
   "execution_count": 51,
   "id": "94af99a6",
   "metadata": {},
   "outputs": [
    {
     "data": {
      "text/plain": [
       "Counter({'Android Auto': 649,\n",
       "         'Fog Lights': 643,\n",
       "         'Wireless Charging': 642,\n",
       "         'Leather Seats': 640,\n",
       "         'Backup Camera': 639,\n",
       "         'Sunroof': 638,\n",
       "         'Heated Seats': 638,\n",
       "         'Alloy Wheels': 636,\n",
       "         'Navigation': 633,\n",
       "         'Panoramic Roof': 632,\n",
       "         'Ventilated Seats': 630,\n",
       "         'Push Button Start': 626,\n",
       "         'Apple CarPlay': 625,\n",
       "         'Parking Sensors': 622,\n",
       "         'Adaptive Cruise Control': 611,\n",
       "         'LED Headlights': 608,\n",
       "         'Bluetooth': 600,\n",
       "         'Lane Keep Assist': 599,\n",
       "         'Keyless Entry': 589,\n",
       "         'Blind Spot Monitor': 585})"
      ]
     },
     "execution_count": 51,
     "metadata": {},
     "output_type": "execute_result"
    }
   ],
   "source": [
    "feature_counts"
   ]
  },
  {
   "cell_type": "code",
   "execution_count": 52,
   "metadata": {},
   "outputs": [],
   "source": [
    "important_features = [\n",
    "    'Backup Camera', 'Navigation', 'Leather Seats', \n",
    "    'Sunroof', 'Wireless Charging', 'Bluetooth', 'Parking Sensors'\n",
    "]"
   ]
  },
  {
   "cell_type": "code",
   "execution_count": 53,
   "metadata": {},
   "outputs": [],
   "source": [
    "for feature in important_features:\n",
    "    col_name = f'has_{feature.lower().replace(\" \", \"_\")}'\n",
    "    df[col_name] = df['features'].str.contains(feature, na=False).astype(int)"
   ]
  },
  {
   "cell_type": "code",
   "execution_count": 54,
   "id": "7b3ef543",
   "metadata": {},
   "outputs": [],
   "source": [
    "df= df.drop('features', axis= 1)"
   ]
  },
  {
   "cell_type": "markdown",
   "id": "4d7d440f",
   "metadata": {},
   "source": [
    "## Correlation Check"
   ]
  },
  {
   "cell_type": "code",
   "execution_count": 55,
   "id": "2bdcc376",
   "metadata": {},
   "outputs": [
    {
     "data": {
      "text/plain": [
       "['year',\n",
       " 'mileage',\n",
       " 'price',\n",
       " 'has_backup_camera',\n",
       " 'has_navigation',\n",
       " 'has_leather_seats',\n",
       " 'has_sunroof',\n",
       " 'has_wireless_charging',\n",
       " 'has_bluetooth',\n",
       " 'has_parking_sensors']"
      ]
     },
     "execution_count": 55,
     "metadata": {},
     "output_type": "execute_result"
    }
   ],
   "source": [
    "numeric= list(df.describe().columns)\n",
    "numeric.remove('listing_id')\n",
    "numeric"
   ]
  },
  {
   "cell_type": "code",
   "execution_count": 56,
   "id": "92b5cfbb",
   "metadata": {},
   "outputs": [
    {
     "data": {
      "image/png": "[encoded data removed]",
      "text/plain": [
       "<Figure size 1000x800 with 2 Axes>"
      ]
     },
     "metadata": {},
     "output_type": "display_data"
    }
   ],
   "source": [
    "plt.figure(figsize= (10, 8))\n",
    "sns.heatmap(df[numeric].corr(), cmap=\"coolwarm\", annot= True)\n",
    "plt.show()"
   ]
  },
  {
   "cell_type": "markdown",
   "id": "22e17db2",
   "metadata": {},
   "source": [
    "## Outliers Check"
   ]
  },
  {
   "cell_type": "code",
   "execution_count": 57,
   "id": "3b81f0ee",
   "metadata": {},
   "outputs": [],
   "source": [
    "def find_outliers_iqr(data):\n",
    "    outliers= []\n",
    "    for col in data.columns:\n",
    "        Q1 = data[col].quantile(0.25)\n",
    "        Q3 = data[col].quantile(0.75)\n",
    "        IQR = Q3 - Q1\n",
    "        lower_bound = Q1 - (1.5 * IQR)\n",
    "        upper_bound = Q3 + (1.5 * IQR)\n",
    "        if (data[col] < lower_bound).any() | (data[col] > upper_bound).any():\n",
    "            outliers.append(col)\n",
    "    return outliers"
   ]
  },
  {
   "cell_type": "code",
   "execution_count": 58,
   "id": "b16ab07e",
   "metadata": {},
   "outputs": [
    {
     "data": {
      "text/plain": [
       "['mileage', 'price']"
      ]
     },
     "execution_count": 58,
     "metadata": {},
     "output_type": "execute_result"
    }
   ],
   "source": [
    "outliers_columns= find_outliers_iqr(df[numeric])\n",
    "outliers_columns"
   ]
  },
  {
   "cell_type": "code",
   "execution_count": 59,
   "id": "d3d7c718",
   "metadata": {},
   "outputs": [],
   "source": [
    "def outliers_values(data, col):\n",
    "    Q1 = data[col].quantile(0.25)\n",
    "    Q3 = data[col].quantile(0.75)\n",
    "    IQR = Q3 - Q1\n",
    "    lower_bound = Q1 - (1.5 * IQR)\n",
    "    upper_bound = Q3 + (1.5 * IQR)\n",
    "    \n",
    "    outliers = data[(data[col] < lower_bound) | (data[col] > upper_bound)][col]\n",
    "    return outliers"
   ]
  },
  {
   "cell_type": "code",
   "execution_count": 60,
   "id": "7a248bf6",
   "metadata": {},
   "outputs": [],
   "source": [
    "def get_bounds(data, col):\n",
    "    Q1 = data[col].quantile(0.25)\n",
    "    Q3 = data[col].quantile(0.75)\n",
    "    IQR = Q3 - Q1\n",
    "    lower_bound = Q1 - (1.5 * IQR)\n",
    "    upper_bound = Q3 + (1.5 * IQR)\n",
    "    return lower_bound, upper_bound"
   ]
  },
  {
   "cell_type": "markdown",
   "id": "99b627b8",
   "metadata": {},
   "source": [
    "### mileage"
   ]
  },
  {
   "cell_type": "code",
   "execution_count": 61,
   "id": "a12c493f",
   "metadata": {},
   "outputs": [
    {
     "data": {
      "text/plain": [
       "<Axes: ylabel='mileage'>"
      ]
     },
     "execution_count": 61,
     "metadata": {},
     "output_type": "execute_result"
    },
    {
     "data": {
      "image/png": "[encoded data removed]",
      "text/plain": [
       "<Figure size 640x480 with 1 Axes>"
      ]
     },
     "metadata": {},
     "output_type": "display_data"
    }
   ],
   "source": [
    "sns.boxplot(df['mileage'])"
   ]
  },
  {
   "cell_type": "code",
   "execution_count": 62,
   "id": "0d1bdd36",
   "metadata": {},
   "outputs": [
    {
     "data": {
      "text/plain": [
       "<Axes: >"
      ]
     },
     "execution_count": 62,
     "metadata": {},
     "output_type": "execute_result"
    },
    {
     "data": {
      "image/png": "[encoded data removed]",
      "text/plain": [
       "<Figure size 640x480 with 1 Axes>"
      ]
     },
     "metadata": {},
     "output_type": "display_data"
    }
   ],
   "source": [
    "df['mileage'].hist()\n",
    "# left skewed"
   ]
  },
  {
   "cell_type": "code",
   "execution_count": 63,
   "id": "3927dfa0",
   "metadata": {},
   "outputs": [
    {
     "data": {
      "text/plain": [
       "57"
      ]
     },
     "execution_count": 63,
     "metadata": {},
     "output_type": "execute_result"
    }
   ],
   "source": [
    "outliers= outliers_values(df, 'mileage')\n",
    "len(outliers)"
   ]
  },
  {
   "cell_type": "code",
   "execution_count": 64,
   "metadata": {},
   "outputs": [
    {
     "data": {
      "text/plain": [
       "np.float64(311703.875)"
      ]
     },
     "execution_count": 64,
     "metadata": {},
     "output_type": "execute_result"
    }
   ],
   "source": [
    "low, high= get_bounds(df, 'mileage')\n",
    "high"
   ]
  },
  {
   "cell_type": "code",
   "execution_count": 65,
   "metadata": {},
   "outputs": [
    {
     "data": {
      "text/plain": [
       "np.int64(418428)"
      ]
     },
     "execution_count": 65,
     "metadata": {},
     "output_type": "execute_result"
    }
   ],
   "source": [
    "df['mileage'].max()"
   ]
  },
  {
   "cell_type": "markdown",
   "id": "4942c164",
   "metadata": {},
   "source": [
    "### Price"
   ]
  },
  {
   "cell_type": "code",
   "execution_count": 66,
   "id": "18584c1e",
   "metadata": {},
   "outputs": [
    {
     "data": {
      "text/plain": [
       "<Axes: ylabel='price'>"
      ]
     },
     "execution_count": 66,
     "metadata": {},
     "output_type": "execute_result"
    },
    {
     "data": {
      "image/png": "[encoded data removed]",
      "text/plain": [
       "<Figure size 640x480 with 1 Axes>"
      ]
     },
     "metadata": {},
     "output_type": "display_data"
    }
   ],
   "source": [
    "sns.boxplot(df['price'])"
   ]
  },
  {
   "cell_type": "code",
   "execution_count": 67,
   "id": "1b6ae63d",
   "metadata": {},
   "outputs": [
    {
     "data": {
      "text/plain": [
       "<Axes: >"
      ]
     },
     "execution_count": 67,
     "metadata": {},
     "output_type": "execute_result"
    },
    {
     "data": {
      "image/png": "[encoded data removed]",
      "text/plain": [
       "<Figure size 640x480 with 1 Axes>"
      ]
     },
     "metadata": {},
     "output_type": "display_data"
    }
   ],
   "source": [
    "df['price'].hist()"
   ]
  },
  {
   "cell_type": "code",
   "execution_count": 68,
   "id": "5cfc62e7",
   "metadata": {},
   "outputs": [
    {
     "data": {
      "text/plain": [
       "count     2068.000000\n",
       "mean      9182.621857\n",
       "std       9964.093618\n",
       "min       1140.000000\n",
       "25%       2323.750000\n",
       "50%       5448.500000\n",
       "75%      11946.750000\n",
       "max      72641.000000\n",
       "Name: price, dtype: float64"
      ]
     },
     "execution_count": 68,
     "metadata": {},
     "output_type": "execute_result"
    }
   ],
   "source": [
    "df['price'].describe()"
   ]
  },
  {
   "cell_type": "markdown",
   "id": "b57d6468",
   "metadata": {},
   "source": [
    "# Exporting to database again"
   ]
  },
  {
   "cell_type": "code",
   "execution_count": 140,
   "id": "ab6e4991",
   "metadata": {},
   "outputs": [
    {
     "name": "stderr",
     "output_type": "stream",
     "text": [
      "C:\\Users\\hp\\AppData\\Local\\Temp\\ipykernel_15528\\2607433363.py:1: UserWarning: The provided table name 'Car_Sellings' is not found exactly as such in the database after writing the table, possibly due to case sensitivity issues. Consider using lower case table names.\n",
      "  df.to_sql(\"Car_Sellings\", engine, index= False)\n"
     ]
    },
    {
     "data": {
      "text/plain": [
       "2068"
      ]
     },
     "execution_count": 140,
     "metadata": {},
     "output_type": "execute_result"
    }
   ],
   "source": [
    "df.to_sql(\"Car_Sellings\", engine, index= False)"
   ]
  }
 ],
 "metadata": {
  "kernelspec": {
   "display_name": "Python 3",
   "language": "python",
   "name": "python3"
  },
  "language_info": {
   "codemirror_mode": {
    "name": "ipython",
    "version": 3
   },
   "file_extension": ".py",
   "mimetype": "text/x-python",
   "name": "python",
   "nbconvert_exporter": "python",
   "pygments_lexer": "ipython3",
   "version": "3.13.2"
  }
 },
 "nbformat": 4,
 "nbformat_minor": 5
}
